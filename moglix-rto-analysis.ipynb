{
 "cells": [
  {
   "cell_type": "code",
   "execution_count": 1,
   "id": "a2f25c46",
   "metadata": {
    "_cell_guid": "b1076dfc-b9ad-4769-8c92-a6c4dae69d19",
    "_uuid": "8f2839f25d086af736a60e9eeb907d3b93b6e0e5",
    "execution": {
     "iopub.execute_input": "2023-07-10T03:21:41.783030Z",
     "iopub.status.busy": "2023-07-10T03:21:41.782561Z",
     "iopub.status.idle": "2023-07-10T03:21:41.799845Z",
     "shell.execute_reply": "2023-07-10T03:21:41.798432Z"
    },
    "papermill": {
     "duration": 0.032116,
     "end_time": "2023-07-10T03:21:41.803405",
     "exception": false,
     "start_time": "2023-07-10T03:21:41.771289",
     "status": "completed"
    },
    "tags": []
   },
   "outputs": [
    {
     "name": "stdout",
     "output_type": "stream",
     "text": [
      "/kaggle/input/moglix-rto-model-data/model_data.xlsx\n"
     ]
    }
   ],
   "source": [
    "# This Python 3 environment comes with many helpful analytics libraries installed\n",
    "# It is defined by the kaggle/python Docker image: https://github.com/kaggle/docker-python\n",
    "# For example, here's several helpful packages to load\n",
    "\n",
    "import numpy as np # linear algebra\n",
    "import pandas as pd # data processing, CSV file I/O (e.g. pd.read_csv)\n",
    "\n",
    "# Input data files are available in the read-only \"../input/\" directory\n",
    "# For example, running this (by clicking run or pressing Shift+Enter) will list all files under the input directory\n",
    "\n",
    "import os\n",
    "for dirname, _, filenames in os.walk('/kaggle/input'):\n",
    "    for filename in filenames:\n",
    "        print(os.path.join(dirname, filename))\n",
    "\n",
    "# You can write up to 20GB to the current directory (/kaggle/working/) that gets preserved as output when you create a version using \"Save & Run All\" \n",
    "# You can also write temporary files to /kaggle/temp/, but they won't be saved outside of the current session"
   ]
  },
  {
   "cell_type": "code",
   "execution_count": 2,
   "id": "484caa52",
   "metadata": {
    "execution": {
     "iopub.execute_input": "2023-07-10T03:21:41.823273Z",
     "iopub.status.busy": "2023-07-10T03:21:41.822648Z",
     "iopub.status.idle": "2023-07-10T03:21:44.060944Z",
     "shell.execute_reply": "2023-07-10T03:21:44.059868Z"
    },
    "papermill": {
     "duration": 2.251322,
     "end_time": "2023-07-10T03:21:44.063970",
     "exception": false,
     "start_time": "2023-07-10T03:21:41.812648",
     "status": "completed"
    },
    "tags": []
   },
   "outputs": [],
   "source": [
    "import openpyxl\n",
    "import matplotlib.pyplot as plt\n",
    "import seaborn as sns\n",
    "\n",
    "from sklearn.linear_model import LogisticRegression\n",
    "from sklearn.neighbors import KNeighborsClassifier\n",
    "from sklearn.tree import DecisionTreeClassifier"
   ]
  },
  {
   "cell_type": "code",
   "execution_count": 3,
   "id": "464321bd",
   "metadata": {
    "execution": {
     "iopub.execute_input": "2023-07-10T03:21:44.084868Z",
     "iopub.status.busy": "2023-07-10T03:21:44.084294Z",
     "iopub.status.idle": "2023-07-10T03:24:34.377129Z",
     "shell.execute_reply": "2023-07-10T03:24:34.375666Z"
    },
    "papermill": {
     "duration": 170.313098,
     "end_time": "2023-07-10T03:24:34.387350",
     "exception": false,
     "start_time": "2023-07-10T03:21:44.074252",
     "status": "completed"
    },
    "tags": []
   },
   "outputs": [
    {
     "name": "stdout",
     "output_type": "stream",
     "text": [
      "<class 'pandas.core.frame.DataFrame'>\n",
      "RangeIndex: 598272 entries, 0 to 598271\n",
      "Data columns (total 22 columns):\n",
      " #   Column               Non-Null Count   Dtype         \n",
      "---  ------               --------------   -----         \n",
      " 0   order_id             598272 non-null  int64         \n",
      " 1   customer_id          598272 non-null  int64         \n",
      " 2   product_ref          598272 non-null  object        \n",
      " 3   soih_createdAt       598272 non-null  datetime64[ns]\n",
      " 4   payment_status       598272 non-null  int64         \n",
      " 5   item_id              598272 non-null  int64         \n",
      " 6   is_rto               598272 non-null  int64         \n",
      " 7   destination_pincode  598272 non-null  int64         \n",
      " 8   promocode            45855 non-null   object        \n",
      " 9   order_platform       596356 non-null  object        \n",
      " 10  is_gstinvoice        598272 non-null  int64         \n",
      " 11  city                 598268 non-null  object        \n",
      " 12  state                598272 non-null  object        \n",
      " 13  mo                   598272 non-null  int64         \n",
      " 14  yr                   598272 non-null  int64         \n",
      " 15  created_at           598272 non-null  datetime64[ns]\n",
      " 16  source_pincode       598200 non-null  float64       \n",
      " 17  item_discount        598272 non-null  int64         \n",
      " 18  item_shipping        598272 non-null  int64         \n",
      " 19  quantity             598272 non-null  int64         \n",
      " 20  brand_name           598269 non-null  object        \n",
      " 21  sources              121818 non-null  object        \n",
      "dtypes: datetime64[ns](2), float64(1), int64(12), object(7)\n",
      "memory usage: 100.4+ MB\n"
     ]
    }
   ],
   "source": [
    "pd.options.display.max_columns = None\n",
    "file_name = \"/kaggle/input/moglix-rto-model-data/model_data.xlsx\"\n",
    "sheet = \"in\"\n",
    "df = pd.read_excel(io=file_name, sheet_name=sheet)\n",
    "df.info()"
   ]
  },
  {
   "cell_type": "code",
   "execution_count": 4,
   "id": "942a3439",
   "metadata": {
    "execution": {
     "iopub.execute_input": "2023-07-10T03:24:34.407042Z",
     "iopub.status.busy": "2023-07-10T03:24:34.405727Z",
     "iopub.status.idle": "2023-07-10T03:24:35.064870Z",
     "shell.execute_reply": "2023-07-10T03:24:35.063686Z"
    },
    "papermill": {
     "duration": 0.671468,
     "end_time": "2023-07-10T03:24:35.067471",
     "exception": false,
     "start_time": "2023-07-10T03:24:34.396003",
     "status": "completed"
    },
    "tags": []
   },
   "outputs": [
    {
     "data": {
      "text/html": [
       "<div>\n",
       "<style scoped>\n",
       "    .dataframe tbody tr th:only-of-type {\n",
       "        vertical-align: middle;\n",
       "    }\n",
       "\n",
       "    .dataframe tbody tr th {\n",
       "        vertical-align: top;\n",
       "    }\n",
       "\n",
       "    .dataframe thead th {\n",
       "        text-align: right;\n",
       "    }\n",
       "</style>\n",
       "<table border=\"1\" class=\"dataframe\">\n",
       "  <thead>\n",
       "    <tr style=\"text-align: right;\">\n",
       "      <th></th>\n",
       "      <th>order_id</th>\n",
       "      <th>customer_id</th>\n",
       "      <th>product_ref</th>\n",
       "      <th>soih_createdAt</th>\n",
       "      <th>payment_status</th>\n",
       "      <th>item_id</th>\n",
       "      <th>is_rto</th>\n",
       "      <th>destination_pincode</th>\n",
       "      <th>promocode</th>\n",
       "      <th>order_platform</th>\n",
       "      <th>is_gstinvoice</th>\n",
       "      <th>city</th>\n",
       "      <th>state</th>\n",
       "      <th>mo</th>\n",
       "      <th>yr</th>\n",
       "      <th>created_at</th>\n",
       "      <th>source_pincode</th>\n",
       "      <th>item_discount</th>\n",
       "      <th>item_shipping</th>\n",
       "      <th>quantity</th>\n",
       "      <th>brand_name</th>\n",
       "      <th>sources</th>\n",
       "    </tr>\n",
       "  </thead>\n",
       "  <tbody>\n",
       "    <tr>\n",
       "      <th>0</th>\n",
       "      <td>3718347</td>\n",
       "      <td>679769</td>\n",
       "      <td>MSNZ526Y6WNM9X</td>\n",
       "      <td>2022-03-25 11:15:49</td>\n",
       "      <td>6</td>\n",
       "      <td>2216274</td>\n",
       "      <td>0</td>\n",
       "      <td>201309</td>\n",
       "      <td>0</td>\n",
       "      <td>web</td>\n",
       "      <td>1</td>\n",
       "      <td>Gautam Buddha Nagar</td>\n",
       "      <td>Uttar Pradesh</td>\n",
       "      <td>3</td>\n",
       "      <td>2022</td>\n",
       "      <td>2022-03-24 11:38:51</td>\n",
       "      <td>110086.0</td>\n",
       "      <td>0</td>\n",
       "      <td>199000</td>\n",
       "      <td>2</td>\n",
       "      <td>daikin</td>\n",
       "      <td>0</td>\n",
       "    </tr>\n",
       "    <tr>\n",
       "      <th>1</th>\n",
       "      <td>3718055</td>\n",
       "      <td>1653298</td>\n",
       "      <td>MSNRKREDXGQ39N</td>\n",
       "      <td>2022-03-25 12:00:14</td>\n",
       "      <td>1</td>\n",
       "      <td>2215889</td>\n",
       "      <td>0</td>\n",
       "      <td>743424</td>\n",
       "      <td>0</td>\n",
       "      <td>web</td>\n",
       "      <td>0</td>\n",
       "      <td>North 24 Parganas</td>\n",
       "      <td>West Bengal</td>\n",
       "      <td>3</td>\n",
       "      <td>2022</td>\n",
       "      <td>2022-03-24 08:16:53</td>\n",
       "      <td>700001.0</td>\n",
       "      <td>0</td>\n",
       "      <td>0</td>\n",
       "      <td>1</td>\n",
       "      <td>gobbler</td>\n",
       "      <td>0</td>\n",
       "    </tr>\n",
       "    <tr>\n",
       "      <th>2</th>\n",
       "      <td>3717889</td>\n",
       "      <td>2527071</td>\n",
       "      <td>MSNE9J83MXER9D</td>\n",
       "      <td>2022-03-25 15:03:36</td>\n",
       "      <td>2</td>\n",
       "      <td>2215711</td>\n",
       "      <td>0</td>\n",
       "      <td>110019</td>\n",
       "      <td>0</td>\n",
       "      <td>mobile</td>\n",
       "      <td>0</td>\n",
       "      <td>South Delhi</td>\n",
       "      <td>Delhi</td>\n",
       "      <td>3</td>\n",
       "      <td>2022</td>\n",
       "      <td>2022-03-24 02:21:34</td>\n",
       "      <td>110077.0</td>\n",
       "      <td>0</td>\n",
       "      <td>0</td>\n",
       "      <td>1</td>\n",
       "      <td>cheston</td>\n",
       "      <td>0</td>\n",
       "    </tr>\n",
       "    <tr>\n",
       "      <th>3</th>\n",
       "      <td>3718961</td>\n",
       "      <td>2528816</td>\n",
       "      <td>MSN2R297S8XPNR</td>\n",
       "      <td>2022-03-25 15:03:56</td>\n",
       "      <td>2</td>\n",
       "      <td>2217192</td>\n",
       "      <td>0</td>\n",
       "      <td>201306</td>\n",
       "      <td>0</td>\n",
       "      <td>mobile</td>\n",
       "      <td>0</td>\n",
       "      <td>Gautam Buddha Nagar</td>\n",
       "      <td>Uttar Pradesh</td>\n",
       "      <td>3</td>\n",
       "      <td>2022</td>\n",
       "      <td>2022-03-24 17:07:30</td>\n",
       "      <td>110019.0</td>\n",
       "      <td>0</td>\n",
       "      <td>0</td>\n",
       "      <td>1</td>\n",
       "      <td>blackdecker</td>\n",
       "      <td>0</td>\n",
       "    </tr>\n",
       "    <tr>\n",
       "      <th>4</th>\n",
       "      <td>3718990</td>\n",
       "      <td>2528884</td>\n",
       "      <td>MSN153VNDQ6YK3</td>\n",
       "      <td>2022-03-25 15:03:59</td>\n",
       "      <td>2</td>\n",
       "      <td>2217223</td>\n",
       "      <td>0</td>\n",
       "      <td>110001</td>\n",
       "      <td>0</td>\n",
       "      <td>web</td>\n",
       "      <td>0</td>\n",
       "      <td>Central Delhi</td>\n",
       "      <td>Delhi</td>\n",
       "      <td>3</td>\n",
       "      <td>2022</td>\n",
       "      <td>2022-03-24 17:32:43</td>\n",
       "      <td>110064.0</td>\n",
       "      <td>0</td>\n",
       "      <td>0</td>\n",
       "      <td>1</td>\n",
       "      <td>zebronics</td>\n",
       "      <td>0</td>\n",
       "    </tr>\n",
       "    <tr>\n",
       "      <th>5</th>\n",
       "      <td>3719017</td>\n",
       "      <td>711300</td>\n",
       "      <td>MSN2R9CFNAUWXD</td>\n",
       "      <td>2022-03-25 15:04:02</td>\n",
       "      <td>2</td>\n",
       "      <td>2217258</td>\n",
       "      <td>0</td>\n",
       "      <td>121004</td>\n",
       "      <td>PUMP50</td>\n",
       "      <td>app</td>\n",
       "      <td>0</td>\n",
       "      <td>Faridabad</td>\n",
       "      <td>Haryana</td>\n",
       "      <td>3</td>\n",
       "      <td>2022</td>\n",
       "      <td>2022-03-24 17:50:28</td>\n",
       "      <td>110077.0</td>\n",
       "      <td>50000</td>\n",
       "      <td>29000</td>\n",
       "      <td>1</td>\n",
       "      <td>sameer</td>\n",
       "      <td>0</td>\n",
       "    </tr>\n",
       "    <tr>\n",
       "      <th>6</th>\n",
       "      <td>3720746</td>\n",
       "      <td>1863370</td>\n",
       "      <td>MSN2QV262TF1GV</td>\n",
       "      <td>2022-03-25 17:17:30</td>\n",
       "      <td>2</td>\n",
       "      <td>2219471</td>\n",
       "      <td>0</td>\n",
       "      <td>250615</td>\n",
       "      <td>0</td>\n",
       "      <td>web</td>\n",
       "      <td>0</td>\n",
       "      <td>Bagpat</td>\n",
       "      <td>Uttar Pradesh</td>\n",
       "      <td>3</td>\n",
       "      <td>2022</td>\n",
       "      <td>2022-03-25 16:55:27</td>\n",
       "      <td>110052.0</td>\n",
       "      <td>0</td>\n",
       "      <td>39000</td>\n",
       "      <td>1</td>\n",
       "      <td>hillson</td>\n",
       "      <td>0</td>\n",
       "    </tr>\n",
       "    <tr>\n",
       "      <th>7</th>\n",
       "      <td>3718193</td>\n",
       "      <td>2251851</td>\n",
       "      <td>MSNZ526P27WW9X</td>\n",
       "      <td>2022-03-25 17:30:59</td>\n",
       "      <td>2</td>\n",
       "      <td>2216052</td>\n",
       "      <td>0</td>\n",
       "      <td>201014</td>\n",
       "      <td>0</td>\n",
       "      <td>app</td>\n",
       "      <td>0</td>\n",
       "      <td>Ghaziabad</td>\n",
       "      <td>Uttar Pradesh</td>\n",
       "      <td>3</td>\n",
       "      <td>2022</td>\n",
       "      <td>2022-03-24 09:52:39</td>\n",
       "      <td>110077.0</td>\n",
       "      <td>0</td>\n",
       "      <td>19000</td>\n",
       "      <td>1</td>\n",
       "      <td>sameer</td>\n",
       "      <td>0</td>\n",
       "    </tr>\n",
       "    <tr>\n",
       "      <th>8</th>\n",
       "      <td>3720792</td>\n",
       "      <td>1863370</td>\n",
       "      <td>MSN2QV262TF1GV</td>\n",
       "      <td>2022-03-25 17:41:35</td>\n",
       "      <td>2</td>\n",
       "      <td>2219544</td>\n",
       "      <td>0</td>\n",
       "      <td>250615</td>\n",
       "      <td>0</td>\n",
       "      <td>web</td>\n",
       "      <td>0</td>\n",
       "      <td>Bagpat</td>\n",
       "      <td>Uttar Pradesh</td>\n",
       "      <td>3</td>\n",
       "      <td>2022</td>\n",
       "      <td>2022-03-25 17:27:41</td>\n",
       "      <td>110077.0</td>\n",
       "      <td>0</td>\n",
       "      <td>39000</td>\n",
       "      <td>1</td>\n",
       "      <td>hillson</td>\n",
       "      <td>0</td>\n",
       "    </tr>\n",
       "    <tr>\n",
       "      <th>9</th>\n",
       "      <td>3719070</td>\n",
       "      <td>2529040</td>\n",
       "      <td>MSNE5N86E470KL</td>\n",
       "      <td>2022-03-26 10:00:49</td>\n",
       "      <td>2</td>\n",
       "      <td>2217335</td>\n",
       "      <td>0</td>\n",
       "      <td>110063</td>\n",
       "      <td>0</td>\n",
       "      <td>mobile</td>\n",
       "      <td>0</td>\n",
       "      <td>West Delhi</td>\n",
       "      <td>Delhi</td>\n",
       "      <td>3</td>\n",
       "      <td>2022</td>\n",
       "      <td>2022-03-24 18:27:58</td>\n",
       "      <td>201301.0</td>\n",
       "      <td>0</td>\n",
       "      <td>0</td>\n",
       "      <td>1</td>\n",
       "      <td>windek</td>\n",
       "      <td>Facebook</td>\n",
       "    </tr>\n",
       "  </tbody>\n",
       "</table>\n",
       "</div>"
      ],
      "text/plain": [
       "   order_id  customer_id     product_ref      soih_createdAt  payment_status  \\\n",
       "0   3718347       679769  MSNZ526Y6WNM9X 2022-03-25 11:15:49               6   \n",
       "1   3718055      1653298  MSNRKREDXGQ39N 2022-03-25 12:00:14               1   \n",
       "2   3717889      2527071  MSNE9J83MXER9D 2022-03-25 15:03:36               2   \n",
       "3   3718961      2528816  MSN2R297S8XPNR 2022-03-25 15:03:56               2   \n",
       "4   3718990      2528884  MSN153VNDQ6YK3 2022-03-25 15:03:59               2   \n",
       "5   3719017       711300  MSN2R9CFNAUWXD 2022-03-25 15:04:02               2   \n",
       "6   3720746      1863370  MSN2QV262TF1GV 2022-03-25 17:17:30               2   \n",
       "7   3718193      2251851  MSNZ526P27WW9X 2022-03-25 17:30:59               2   \n",
       "8   3720792      1863370  MSN2QV262TF1GV 2022-03-25 17:41:35               2   \n",
       "9   3719070      2529040  MSNE5N86E470KL 2022-03-26 10:00:49               2   \n",
       "\n",
       "   item_id  is_rto  destination_pincode promocode order_platform  \\\n",
       "0  2216274       0               201309         0            web   \n",
       "1  2215889       0               743424         0            web   \n",
       "2  2215711       0               110019         0         mobile   \n",
       "3  2217192       0               201306         0         mobile   \n",
       "4  2217223       0               110001         0            web   \n",
       "5  2217258       0               121004    PUMP50            app   \n",
       "6  2219471       0               250615         0            web   \n",
       "7  2216052       0               201014         0            app   \n",
       "8  2219544       0               250615         0            web   \n",
       "9  2217335       0               110063         0         mobile   \n",
       "\n",
       "   is_gstinvoice                 city          state  mo    yr  \\\n",
       "0              1  Gautam Buddha Nagar  Uttar Pradesh   3  2022   \n",
       "1              0    North 24 Parganas    West Bengal   3  2022   \n",
       "2              0          South Delhi          Delhi   3  2022   \n",
       "3              0  Gautam Buddha Nagar  Uttar Pradesh   3  2022   \n",
       "4              0        Central Delhi          Delhi   3  2022   \n",
       "5              0            Faridabad        Haryana   3  2022   \n",
       "6              0               Bagpat  Uttar Pradesh   3  2022   \n",
       "7              0            Ghaziabad  Uttar Pradesh   3  2022   \n",
       "8              0               Bagpat  Uttar Pradesh   3  2022   \n",
       "9              0           West Delhi          Delhi   3  2022   \n",
       "\n",
       "           created_at  source_pincode  item_discount  item_shipping  quantity  \\\n",
       "0 2022-03-24 11:38:51        110086.0              0         199000         2   \n",
       "1 2022-03-24 08:16:53        700001.0              0              0         1   \n",
       "2 2022-03-24 02:21:34        110077.0              0              0         1   \n",
       "3 2022-03-24 17:07:30        110019.0              0              0         1   \n",
       "4 2022-03-24 17:32:43        110064.0              0              0         1   \n",
       "5 2022-03-24 17:50:28        110077.0          50000          29000         1   \n",
       "6 2022-03-25 16:55:27        110052.0              0          39000         1   \n",
       "7 2022-03-24 09:52:39        110077.0              0          19000         1   \n",
       "8 2022-03-25 17:27:41        110077.0              0          39000         1   \n",
       "9 2022-03-24 18:27:58        201301.0              0              0         1   \n",
       "\n",
       "    brand_name   sources  \n",
       "0       daikin         0  \n",
       "1      gobbler         0  \n",
       "2      cheston         0  \n",
       "3  blackdecker         0  \n",
       "4    zebronics         0  \n",
       "5       sameer         0  \n",
       "6      hillson         0  \n",
       "7       sameer         0  \n",
       "8      hillson         0  \n",
       "9       windek  Facebook  "
      ]
     },
     "execution_count": 4,
     "metadata": {},
     "output_type": "execute_result"
    }
   ],
   "source": [
    "# Data Cleaning\n",
    "df.fillna(0, inplace=True)\n",
    "df.head(10)"
   ]
  },
  {
   "cell_type": "markdown",
   "id": "e0866dfd",
   "metadata": {
    "papermill": {
     "duration": 0.009741,
     "end_time": "2023-07-10T03:24:35.087248",
     "exception": false,
     "start_time": "2023-07-10T03:24:35.077507",
     "status": "completed"
    },
    "tags": []
   },
   "source": [
    "**What percentage of orders is RTO?**\n",
    "\n",
    "From the numbers below, the percentage of RTO orders is approximatly 29.714%"
   ]
  },
  {
   "cell_type": "code",
   "execution_count": 5,
   "id": "878d19b4",
   "metadata": {
    "execution": {
     "iopub.execute_input": "2023-07-10T03:24:35.107879Z",
     "iopub.status.busy": "2023-07-10T03:24:35.107461Z",
     "iopub.status.idle": "2023-07-10T03:24:35.120801Z",
     "shell.execute_reply": "2023-07-10T03:24:35.119265Z"
    },
    "papermill": {
     "duration": 0.025729,
     "end_time": "2023-07-10T03:24:35.122569",
     "exception": false,
     "start_time": "2023-07-10T03:24:35.096840",
     "status": "completed"
    },
    "tags": []
   },
   "outputs": [
    {
     "name": "stdout",
     "output_type": "stream",
     "text": [
      "0    420503\n",
      "1    177769\n",
      "Name: is_rto, dtype: int64\n"
     ]
    }
   ],
   "source": [
    "rto_count = df['is_rto'].value_counts()\n",
    "print(rto_count)"
   ]
  },
  {
   "cell_type": "markdown",
   "id": "30d79150",
   "metadata": {
    "papermill": {
     "duration": 0.009097,
     "end_time": "2023-07-10T03:24:35.141344",
     "exception": false,
     "start_time": "2023-07-10T03:24:35.132247",
     "status": "completed"
    },
    "tags": []
   },
   "source": [
    "**Relation between existing RTO orders and other fields**\n",
    "\n",
    "Creating a peason correlation heatmap to find relation between is_rto column and other fields.\n",
    "The correlation is_rto has with other columns in the dataframe is low across and so an accurate conclsion about correlation columns cannot be drawn here."
   ]
  },
  {
   "cell_type": "code",
   "execution_count": 6,
   "id": "4bb8ca44",
   "metadata": {
    "execution": {
     "iopub.execute_input": "2023-07-10T03:24:35.162037Z",
     "iopub.status.busy": "2023-07-10T03:24:35.161225Z",
     "iopub.status.idle": "2023-07-10T03:24:36.014617Z",
     "shell.execute_reply": "2023-07-10T03:24:36.013754Z"
    },
    "papermill": {
     "duration": 0.865801,
     "end_time": "2023-07-10T03:24:36.016317",
     "exception": false,
     "start_time": "2023-07-10T03:24:35.150516",
     "status": "completed"
    },
    "tags": []
   },
   "outputs": [
    {
     "data": {
      "image/png": "[encoded data removed]",
      "text/plain": [
       "<Figure size 2000x1500 with 2 Axes>"
      ]
     },
     "metadata": {},
     "output_type": "display_data"
    }
   ],
   "source": [
    "corrDF = df[[\"order_id\", \"customer_id\", \"payment_status\", \"item_id\", \n",
    "          \"is_rto\", \"is_gstinvoice\", \"mo\", \"yr\", \"item_discount\", \"item_shipping\", \n",
    "             \"quantity\"]]\n",
    "# removed source and destination pincodes\n",
    "correlation = corrDF.corr(method='pearson')\n",
    "plt.figure(figsize=(20, 15))\n",
    "plt.title('Pearson Correlation between is_RTO and different fields')\n",
    "sns.heatmap(correlation, annot=True)\n",
    "plt.show()"
   ]
  },
  {
   "cell_type": "code",
   "execution_count": 7,
   "id": "fabab5dc",
   "metadata": {
    "execution": {
     "iopub.execute_input": "2023-07-10T03:24:36.040276Z",
     "iopub.status.busy": "2023-07-10T03:24:36.039890Z",
     "iopub.status.idle": "2023-07-10T03:24:36.082190Z",
     "shell.execute_reply": "2023-07-10T03:24:36.081386Z"
    },
    "papermill": {
     "duration": 0.056375,
     "end_time": "2023-07-10T03:24:36.084046",
     "exception": false,
     "start_time": "2023-07-10T03:24:36.027671",
     "status": "completed"
    },
    "tags": []
   },
   "outputs": [
    {
     "data": {
      "text/html": [
       "<div>\n",
       "<style scoped>\n",
       "    .dataframe tbody tr th:only-of-type {\n",
       "        vertical-align: middle;\n",
       "    }\n",
       "\n",
       "    .dataframe tbody tr th {\n",
       "        vertical-align: top;\n",
       "    }\n",
       "\n",
       "    .dataframe thead th {\n",
       "        text-align: right;\n",
       "    }\n",
       "</style>\n",
       "<table border=\"1\" class=\"dataframe\">\n",
       "  <thead>\n",
       "    <tr style=\"text-align: right;\">\n",
       "      <th></th>\n",
       "      <th>order_id</th>\n",
       "      <th>customer_id</th>\n",
       "      <th>product_ref</th>\n",
       "      <th>soih_createdAt</th>\n",
       "      <th>payment_status</th>\n",
       "      <th>item_id</th>\n",
       "      <th>is_rto</th>\n",
       "      <th>destination_pincode</th>\n",
       "      <th>promocode</th>\n",
       "      <th>order_platform</th>\n",
       "      <th>is_gstinvoice</th>\n",
       "      <th>city</th>\n",
       "      <th>state</th>\n",
       "      <th>mo</th>\n",
       "      <th>yr</th>\n",
       "      <th>created_at</th>\n",
       "      <th>source_pincode</th>\n",
       "      <th>item_discount</th>\n",
       "      <th>item_shipping</th>\n",
       "      <th>quantity</th>\n",
       "      <th>brand_name</th>\n",
       "      <th>sources</th>\n",
       "    </tr>\n",
       "  </thead>\n",
       "  <tbody>\n",
       "    <tr>\n",
       "      <th>45</th>\n",
       "      <td>3718979</td>\n",
       "      <td>2528837</td>\n",
       "      <td>MSN2R98LTIP11P</td>\n",
       "      <td>2022-03-27 14:31:18</td>\n",
       "      <td>2</td>\n",
       "      <td>2217212</td>\n",
       "      <td>1</td>\n",
       "      <td>742121</td>\n",
       "      <td>0</td>\n",
       "      <td>app</td>\n",
       "      <td>0</td>\n",
       "      <td>Murshidabad</td>\n",
       "      <td>West Bengal</td>\n",
       "      <td>3</td>\n",
       "      <td>2022</td>\n",
       "      <td>2022-03-24 17:23:29</td>\n",
       "      <td>110077.0</td>\n",
       "      <td>0</td>\n",
       "      <td>19000</td>\n",
       "      <td>1</td>\n",
       "      <td>sameer</td>\n",
       "      <td>0</td>\n",
       "    </tr>\n",
       "    <tr>\n",
       "      <th>79</th>\n",
       "      <td>3719497</td>\n",
       "      <td>2355267</td>\n",
       "      <td>MSN2R9CFNAUWXD</td>\n",
       "      <td>2022-03-27 21:01:51</td>\n",
       "      <td>2</td>\n",
       "      <td>2217793</td>\n",
       "      <td>1</td>\n",
       "      <td>210301</td>\n",
       "      <td>0</td>\n",
       "      <td>mobile</td>\n",
       "      <td>0</td>\n",
       "      <td>Hamirpur</td>\n",
       "      <td>Uttar Pradesh</td>\n",
       "      <td>3</td>\n",
       "      <td>2022</td>\n",
       "      <td>2022-03-24 22:28:14</td>\n",
       "      <td>110077.0</td>\n",
       "      <td>0</td>\n",
       "      <td>29000</td>\n",
       "      <td>2</td>\n",
       "      <td>sameer</td>\n",
       "      <td>Facebook</td>\n",
       "    </tr>\n",
       "    <tr>\n",
       "      <th>102</th>\n",
       "      <td>3719681</td>\n",
       "      <td>2522712</td>\n",
       "      <td>MSNE5N8VE18YKL</td>\n",
       "      <td>2022-03-28 08:00:24</td>\n",
       "      <td>2</td>\n",
       "      <td>2218042</td>\n",
       "      <td>1</td>\n",
       "      <td>122051</td>\n",
       "      <td>0</td>\n",
       "      <td>app</td>\n",
       "      <td>0</td>\n",
       "      <td>Gurgaon</td>\n",
       "      <td>Haryana</td>\n",
       "      <td>3</td>\n",
       "      <td>2022</td>\n",
       "      <td>2022-03-25 01:12:38</td>\n",
       "      <td>110077.0</td>\n",
       "      <td>0</td>\n",
       "      <td>0</td>\n",
       "      <td>1</td>\n",
       "      <td>cheston</td>\n",
       "      <td>0</td>\n",
       "    </tr>\n",
       "    <tr>\n",
       "      <th>103</th>\n",
       "      <td>3718884</td>\n",
       "      <td>2525942</td>\n",
       "      <td>MSNNKQG68WXZ9X</td>\n",
       "      <td>2022-03-28 09:33:31</td>\n",
       "      <td>2</td>\n",
       "      <td>2217091</td>\n",
       "      <td>1</td>\n",
       "      <td>110085</td>\n",
       "      <td>0</td>\n",
       "      <td>mobile</td>\n",
       "      <td>0</td>\n",
       "      <td>North West Delhi</td>\n",
       "      <td>Delhi</td>\n",
       "      <td>3</td>\n",
       "      <td>2022</td>\n",
       "      <td>2022-03-24 16:34:07</td>\n",
       "      <td>110003.0</td>\n",
       "      <td>0</td>\n",
       "      <td>0</td>\n",
       "      <td>1</td>\n",
       "      <td>allencooper</td>\n",
       "      <td>Facebook</td>\n",
       "    </tr>\n",
       "    <tr>\n",
       "      <th>104</th>\n",
       "      <td>3719029</td>\n",
       "      <td>660254</td>\n",
       "      <td>MSN2VHJZAAGJO3</td>\n",
       "      <td>2022-03-28 10:03:30</td>\n",
       "      <td>2</td>\n",
       "      <td>2217286</td>\n",
       "      <td>1</td>\n",
       "      <td>223222</td>\n",
       "      <td>0</td>\n",
       "      <td>web</td>\n",
       "      <td>0</td>\n",
       "      <td>Azamgarh</td>\n",
       "      <td>Uttar Pradesh</td>\n",
       "      <td>3</td>\n",
       "      <td>2022</td>\n",
       "      <td>2022-03-24 18:05:43</td>\n",
       "      <td>110017.0</td>\n",
       "      <td>0</td>\n",
       "      <td>0</td>\n",
       "      <td>1</td>\n",
       "      <td>mantra</td>\n",
       "      <td>Facebook</td>\n",
       "    </tr>\n",
       "  </tbody>\n",
       "</table>\n",
       "</div>"
      ],
      "text/plain": [
       "     order_id  customer_id     product_ref      soih_createdAt  \\\n",
       "45    3718979      2528837  MSN2R98LTIP11P 2022-03-27 14:31:18   \n",
       "79    3719497      2355267  MSN2R9CFNAUWXD 2022-03-27 21:01:51   \n",
       "102   3719681      2522712  MSNE5N8VE18YKL 2022-03-28 08:00:24   \n",
       "103   3718884      2525942  MSNNKQG68WXZ9X 2022-03-28 09:33:31   \n",
       "104   3719029       660254  MSN2VHJZAAGJO3 2022-03-28 10:03:30   \n",
       "\n",
       "     payment_status  item_id  is_rto  destination_pincode promocode  \\\n",
       "45                2  2217212       1               742121         0   \n",
       "79                2  2217793       1               210301         0   \n",
       "102               2  2218042       1               122051         0   \n",
       "103               2  2217091       1               110085         0   \n",
       "104               2  2217286       1               223222         0   \n",
       "\n",
       "    order_platform  is_gstinvoice              city          state  mo    yr  \\\n",
       "45             app              0       Murshidabad    West Bengal   3  2022   \n",
       "79          mobile              0          Hamirpur  Uttar Pradesh   3  2022   \n",
       "102            app              0           Gurgaon        Haryana   3  2022   \n",
       "103         mobile              0  North West Delhi          Delhi   3  2022   \n",
       "104            web              0          Azamgarh  Uttar Pradesh   3  2022   \n",
       "\n",
       "             created_at  source_pincode  item_discount  item_shipping  \\\n",
       "45  2022-03-24 17:23:29        110077.0              0          19000   \n",
       "79  2022-03-24 22:28:14        110077.0              0          29000   \n",
       "102 2022-03-25 01:12:38        110077.0              0              0   \n",
       "103 2022-03-24 16:34:07        110003.0              0              0   \n",
       "104 2022-03-24 18:05:43        110017.0              0              0   \n",
       "\n",
       "     quantity   brand_name   sources  \n",
       "45          1       sameer         0  \n",
       "79          2       sameer  Facebook  \n",
       "102         1      cheston         0  \n",
       "103         1  allencooper  Facebook  \n",
       "104         1       mantra  Facebook  "
      ]
     },
     "execution_count": 7,
     "metadata": {},
     "output_type": "execute_result"
    }
   ],
   "source": [
    "is_RTO = df[df[\"is_rto\"]==1]\n",
    "is_RTO.head(5)"
   ]
  },
  {
   "cell_type": "markdown",
   "id": "d94353f4",
   "metadata": {
    "papermill": {
     "duration": 0.011848,
     "end_time": "2023-07-10T03:24:36.107257",
     "exception": false,
     "start_time": "2023-07-10T03:24:36.095409",
     "status": "completed"
    },
    "tags": []
   },
   "source": [
    "**CUSTOMERS WITH A HIGH RTO NUMBER**\n",
    "\n",
    "Assuming that a customer with more than 15 RTOs is likely to RTO again, then the following list of customers should be flagged with appopriate titles. The lower limit can be changed as needed. The precentage of RTO orders made by each customer on this list has also been included. The top 50 have been printed."
   ]
  },
  {
   "cell_type": "code",
   "execution_count": 8,
   "id": "dfee38f3",
   "metadata": {
    "execution": {
     "iopub.execute_input": "2023-07-10T03:24:36.131876Z",
     "iopub.status.busy": "2023-07-10T03:24:36.131520Z",
     "iopub.status.idle": "2023-07-10T03:24:36.158176Z",
     "shell.execute_reply": "2023-07-10T03:24:36.157116Z"
    },
    "papermill": {
     "duration": 0.041878,
     "end_time": "2023-07-10T03:24:36.160679",
     "exception": false,
     "start_time": "2023-07-10T03:24:36.118801",
     "status": "completed"
    },
    "tags": []
   },
   "outputs": [
    {
     "name": "stdout",
     "output_type": "stream",
     "text": [
      "     index  count\n",
      "0  2977024     72\n",
      "1  3147313     68\n",
      "2  2682036     46\n",
      "3  2516664     45\n",
      "4  2137235     37\n"
     ]
    }
   ],
   "source": [
    "customer_flag_list = is_RTO.customer_id.value_counts().reset_index(name=\"count\").query(\"count>15\")\n",
    "print(customer_flag_list.head(5))"
   ]
  },
  {
   "cell_type": "code",
   "execution_count": 9,
   "id": "5817c647",
   "metadata": {
    "execution": {
     "iopub.execute_input": "2023-07-10T03:24:36.185550Z",
     "iopub.status.busy": "2023-07-10T03:24:36.185208Z",
     "iopub.status.idle": "2023-07-10T03:24:36.243141Z",
     "shell.execute_reply": "2023-07-10T03:24:36.242107Z"
    },
    "papermill": {
     "duration": 0.072383,
     "end_time": "2023-07-10T03:24:36.244865",
     "exception": false,
     "start_time": "2023-07-10T03:24:36.172482",
     "status": "completed"
    },
    "tags": []
   },
   "outputs": [
    {
     "name": "stdout",
     "output_type": "stream",
     "text": [
      "     index  count\n",
      "0  2491383    447\n",
      "1  2533902    341\n",
      "2  2132395    302\n",
      "3  2362878    288\n",
      "4   214353    258\n"
     ]
    }
   ],
   "source": [
    "list_df = df.customer_id.value_counts().reset_index(name=\"count\")\n",
    "print(list_df.head(5))"
   ]
  },
  {
   "cell_type": "code",
   "execution_count": 10,
   "id": "3cf95ad0",
   "metadata": {
    "execution": {
     "iopub.execute_input": "2023-07-10T03:24:36.268102Z",
     "iopub.status.busy": "2023-07-10T03:24:36.267797Z",
     "iopub.status.idle": "2023-07-10T03:24:36.528877Z",
     "shell.execute_reply": "2023-07-10T03:24:36.527855Z"
    },
    "papermill": {
     "duration": 0.274921,
     "end_time": "2023-07-10T03:24:36.530783",
     "exception": false,
     "start_time": "2023-07-10T03:24:36.255862",
     "status": "completed"
    },
    "tags": []
   },
   "outputs": [
    {
     "name": "stdout",
     "output_type": "stream",
     "text": [
      "      index  count  Total RTO  Percent RTO\n",
      "0   2977024     72         72   100.000000\n",
      "21  3025913     26         26   100.000000\n",
      "29  2224998     24         24   100.000000\n",
      "30  2804160     24         24   100.000000\n",
      "33  3020213     23         23   100.000000\n",
      "1   3147313     68         68   100.000000\n",
      "39  3088345     21         21   100.000000\n",
      "42  3125676     19         19   100.000000\n",
      "43  2774082     19         19   100.000000\n",
      "47  2370678     19         19   100.000000\n",
      "52  2730257     18         18   100.000000\n",
      "54  2733455     18         18   100.000000\n",
      "55  3182239     17         17   100.000000\n",
      "60  2860060     17         17   100.000000\n",
      "62  3076175     17         17   100.000000\n",
      "65  1345019     17         17   100.000000\n",
      "71  2499943     16         16   100.000000\n",
      "23  3025491     25         25   100.000000\n",
      "38   327158     21         21   100.000000\n",
      "9   2869527     31         31   100.000000\n",
      "15  2556613     28         28   100.000000\n",
      "6   2325729     34         34   100.000000\n",
      "11  1406573     30         30   100.000000\n",
      "75  3896159     16         16   100.000000\n",
      "2   2682036     46         47    97.872340\n",
      "4   2137235     37         38    97.368421\n",
      "8   2268818     31         32    96.875000\n",
      "10  3097221     31         32    96.875000\n",
      "14  3615131     28         29    96.551724\n",
      "26  2465655     25         26    96.153846\n",
      "31  1661021     23         24    95.833333\n",
      "40  3723670     20         21    95.238095\n",
      "51  3587211     18         19    94.736842\n",
      "63  2690958     17         18    94.444444\n",
      "58  1644657     17         18    94.444444\n",
      "56  1025416     17         18    94.444444\n",
      "7   2755774     33         35    94.285714\n",
      "67  3571000     16         17    94.117647\n",
      "12   677135     29         31    93.548387\n",
      "16  2238503     27         29    93.103448\n",
      "28  2729099     24         26    92.307692\n",
      "27  2408016     24         26    92.307692\n",
      "41  2173990     19         21    90.476190\n",
      "72  3329571     16         18    88.888889\n",
      "35    75914     22         25    88.000000\n",
      "49  2123135     19         22    86.363636\n",
      "59   962576     17         20    85.000000\n",
      "18  2642339     27         32    84.375000\n",
      "46  3490580     19         23    82.608696\n",
      "13  3629686     29         36    80.555556\n"
     ]
    }
   ],
   "source": [
    "total = [0]*customer_flag_list.shape[0]\n",
    "percent = [0]*customer_flag_list.shape[0]\n",
    "\n",
    "# Value to check\n",
    "for i in range(customer_flag_list.shape[0]):\n",
    "    value = customer_flag_list[\"index\"].iloc[i]\n",
    "    mask = list_df[\"index\"].isin([value])\n",
    "    if any(mask):\n",
    "        x = list_df.index[mask].tolist()\n",
    "        total[i] = list_df[\"count\"].iloc[x].to_string(index=False)\n",
    "        total[i] = int(total[i])\n",
    "        percent[i] = (customer_flag_list[\"count\"].iloc[i]/total[i]) * 100\n",
    "    else:\n",
    "        total[i] = -1\n",
    "        percent[i] = -1\n",
    "\n",
    "customer_flag_list[\"Total RTO\"] = total\n",
    "customer_flag_list[\"Percent RTO\"] = percent\n",
    "\n",
    "# sorting in descending order of percent RTO column\n",
    "customer_flag_list = customer_flag_list.sort_values(\"Percent RTO\", ascending=False)\n",
    "\n",
    "print(customer_flag_list.head(50))"
   ]
  },
  {
   "cell_type": "markdown",
   "id": "b84f81ad",
   "metadata": {
    "papermill": {
     "duration": 0.011178,
     "end_time": "2023-07-10T03:24:36.553414",
     "exception": false,
     "start_time": "2023-07-10T03:24:36.542236",
     "status": "completed"
    },
    "tags": []
   },
   "source": [
    "**CORRELATION BETWEEN PAYMENT STATUS AND RTO true VALUE**\n",
    "\n",
    "From the below numbers, an early stage of payment is more likely to be RTO. Approximately 98.74% of RTO were in the payment stage 2. Approximately 34% of orders in the payment stage 2 are RTO."
   ]
  },
  {
   "cell_type": "code",
   "execution_count": 11,
   "id": "adecd565",
   "metadata": {
    "execution": {
     "iopub.execute_input": "2023-07-10T03:24:36.578215Z",
     "iopub.status.busy": "2023-07-10T03:24:36.577805Z",
     "iopub.status.idle": "2023-07-10T03:24:36.587138Z",
     "shell.execute_reply": "2023-07-10T03:24:36.586244Z"
    },
    "papermill": {
     "duration": 0.02395,
     "end_time": "2023-07-10T03:24:36.588942",
     "exception": false,
     "start_time": "2023-07-10T03:24:36.564992",
     "status": "completed"
    },
    "tags": []
   },
   "outputs": [
    {
     "name": "stdout",
     "output_type": "stream",
     "text": [
      "   index   count\n",
      "0      2  175532\n",
      "1      1    1492\n",
      "2      6     494\n",
      "3      4     146\n",
      "4      3      96\n",
      "5      5       9\n"
     ]
    }
   ],
   "source": [
    "paystats_flag_list = is_RTO.payment_status.value_counts().reset_index(name=\"count\")\n",
    "print(paystats_flag_list)"
   ]
  },
  {
   "cell_type": "code",
   "execution_count": 12,
   "id": "5674b33d",
   "metadata": {
    "execution": {
     "iopub.execute_input": "2023-07-10T03:24:36.614490Z",
     "iopub.status.busy": "2023-07-10T03:24:36.613271Z",
     "iopub.status.idle": "2023-07-10T03:24:36.628309Z",
     "shell.execute_reply": "2023-07-10T03:24:36.626757Z"
    },
    "papermill": {
     "duration": 0.029712,
     "end_time": "2023-07-10T03:24:36.630346",
     "exception": false,
     "start_time": "2023-07-10T03:24:36.600634",
     "status": "completed"
    },
    "tags": []
   },
   "outputs": [
    {
     "name": "stdout",
     "output_type": "stream",
     "text": [
      "   index   count\n",
      "0      2  510341\n",
      "1      1   56967\n",
      "2      6   19792\n",
      "3      4    6829\n",
      "4      3    3997\n",
      "5      5     346\n"
     ]
    }
   ],
   "source": [
    "list_df = df.payment_status.value_counts().reset_index(name=\"count\")\n",
    "print(list_df)"
   ]
  },
  {
   "cell_type": "code",
   "execution_count": 13,
   "id": "3a24fb7e",
   "metadata": {
    "execution": {
     "iopub.execute_input": "2023-07-10T03:24:36.654738Z",
     "iopub.status.busy": "2023-07-10T03:24:36.654355Z",
     "iopub.status.idle": "2023-07-10T03:24:36.668567Z",
     "shell.execute_reply": "2023-07-10T03:24:36.667222Z"
    },
    "papermill": {
     "duration": 0.029021,
     "end_time": "2023-07-10T03:24:36.670896",
     "exception": false,
     "start_time": "2023-07-10T03:24:36.641875",
     "status": "completed"
    },
    "tags": []
   },
   "outputs": [
    {
     "name": "stdout",
     "output_type": "stream",
     "text": [
      "   index   count  Total RTO  Percent RTO\n",
      "0      2  175532     510341    34.395042\n",
      "1      1    1492      56967     2.619060\n",
      "5      5       9        346     2.601156\n",
      "2      6     494      19792     2.495958\n",
      "4      3      96       3997     2.401801\n",
      "3      4     146       6829     2.137941\n"
     ]
    }
   ],
   "source": [
    "total = [0]*paystats_flag_list.shape[0]\n",
    "percent = [0]*paystats_flag_list.shape[0]\n",
    "\n",
    "# Value to check\n",
    "for i in range(paystats_flag_list.shape[0]):\n",
    "    value = paystats_flag_list[\"index\"].iloc[i]\n",
    "    mask = list_df[\"index\"].isin([value])\n",
    "    if any(mask):\n",
    "        x = list_df.index[mask].tolist()\n",
    "        total[i] = int(list_df[\"count\"].iloc[x].to_string(index=False))\n",
    "        percent[i] = (paystats_flag_list[\"count\"].iloc[i]/total[i]) * 100\n",
    "    else:\n",
    "        total[i] = -1\n",
    "        percent[i] = -1\n",
    "\n",
    "paystats_flag_list[\"Total RTO\"] = total\n",
    "paystats_flag_list[\"Percent RTO\"] = percent\n",
    "\n",
    "# sorting in descending order of percent RTO column\n",
    "paystats_flag_list = paystats_flag_list.sort_values(\"Percent RTO\", ascending=False)\n",
    "\n",
    "print(paystats_flag_list)"
   ]
  },
  {
   "cell_type": "markdown",
   "id": "6ba198be",
   "metadata": {
    "papermill": {
     "duration": 0.011263,
     "end_time": "2023-07-10T03:24:36.694115",
     "exception": false,
     "start_time": "2023-07-10T03:24:36.682852",
     "status": "completed"
    },
    "tags": []
   },
   "source": [
    "**CORRELATION BETWEEN DESTINATION PINCODE AND RTO true VALUE**\n",
    "\n",
    "Certain destinations might point towards a scam or possible RTO. These pincodes can be listed separately and loked into a little more. I have printed the destination pincodes which are associated with a high percent RTO here (the lower limit I used is 15, can be changed). "
   ]
  },
  {
   "cell_type": "code",
   "execution_count": 14,
   "id": "c6ff6117",
   "metadata": {
    "execution": {
     "iopub.execute_input": "2023-07-10T03:24:36.719183Z",
     "iopub.status.busy": "2023-07-10T03:24:36.718811Z",
     "iopub.status.idle": "2023-07-10T03:24:36.734932Z",
     "shell.execute_reply": "2023-07-10T03:24:36.734267Z"
    },
    "papermill": {
     "duration": 0.031673,
     "end_time": "2023-07-10T03:24:36.737504",
     "exception": false,
     "start_time": "2023-07-10T03:24:36.705831",
     "status": "completed"
    },
    "tags": []
   },
   "outputs": [
    {
     "name": "stdout",
     "output_type": "stream",
     "text": [
      "    index  count\n",
      "0  795001    341\n",
      "1  201301    298\n",
      "2  191111    283\n",
      "3  192101    271\n",
      "4  190001    270\n"
     ]
    }
   ],
   "source": [
    "dest_flag_list = is_RTO.destination_pincode.value_counts().reset_index(name=\"count\").query(\"count>15\")\n",
    "print(dest_flag_list.head(5))"
   ]
  },
  {
   "cell_type": "code",
   "execution_count": 15,
   "id": "529e3be2",
   "metadata": {
    "execution": {
     "iopub.execute_input": "2023-07-10T03:24:36.764087Z",
     "iopub.status.busy": "2023-07-10T03:24:36.763534Z",
     "iopub.status.idle": "2023-07-10T03:24:36.781144Z",
     "shell.execute_reply": "2023-07-10T03:24:36.780066Z"
    },
    "papermill": {
     "duration": 0.033098,
     "end_time": "2023-07-10T03:24:36.783452",
     "exception": false,
     "start_time": "2023-07-10T03:24:36.750354",
     "status": "completed"
    },
    "tags": []
   },
   "outputs": [
    {
     "name": "stdout",
     "output_type": "stream",
     "text": [
      "    index  count\n",
      "0  795001   1656\n",
      "1  201301   1478\n",
      "2  796001   1409\n",
      "3  795128   1073\n",
      "4  797112   1037\n"
     ]
    }
   ],
   "source": [
    "list_df = df.destination_pincode.value_counts().reset_index(name=\"count\")\n",
    "print(list_df.head(5))"
   ]
  },
  {
   "cell_type": "code",
   "execution_count": 16,
   "id": "e3ace884",
   "metadata": {
    "execution": {
     "iopub.execute_input": "2023-07-10T03:24:36.810579Z",
     "iopub.status.busy": "2023-07-10T03:24:36.809969Z",
     "iopub.status.idle": "2023-07-10T03:24:38.817372Z",
     "shell.execute_reply": "2023-07-10T03:24:38.816084Z"
    },
    "papermill": {
     "duration": 2.023258,
     "end_time": "2023-07-10T03:24:38.819761",
     "exception": false,
     "start_time": "2023-07-10T03:24:36.796503",
     "status": "completed"
    },
    "tags": []
   },
   "outputs": [
    {
     "name": "stdout",
     "output_type": "stream",
     "text": [
      "       index  count  Total RTO  Percent RTO\n",
      "2694  802223     17         17   100.000000\n",
      "1109  721170     31         32    96.875000\n",
      "598   343024     43         45    95.555556\n",
      "50    483113    129        135    95.555556\n",
      "44    473781    134        141    95.035461\n"
     ]
    }
   ],
   "source": [
    "total = [0]*dest_flag_list.shape[0]\n",
    "percent = [0]*dest_flag_list.shape[0]\n",
    "\n",
    "# Value to check\n",
    "for i in range(dest_flag_list.shape[0]):\n",
    "    value = dest_flag_list[\"index\"].iloc[i]\n",
    "    mask = list_df[\"index\"].isin([value])\n",
    "    if any(mask):\n",
    "        x = list_df.index[mask].tolist()\n",
    "        total[i] = int(list_df[\"count\"].iloc[x].to_string(index=False))\n",
    "        percent[i] = (dest_flag_list[\"count\"].iloc[i]/total[i]) * 100\n",
    "    else:\n",
    "        total[i] = -1\n",
    "        percent[i] = -1\n",
    "\n",
    "dest_flag_list[\"Total RTO\"] = total\n",
    "dest_flag_list[\"Percent RTO\"] = percent\n",
    "\n",
    "# sorting in descending order of percent RTO column\n",
    "dest_flag_list = dest_flag_list.sort_values(\"Percent RTO\", ascending=False)\n",
    "\n",
    "print(dest_flag_list.head(5))"
   ]
  },
  {
   "cell_type": "markdown",
   "id": "baa10cab",
   "metadata": {
    "papermill": {
     "duration": 0.011374,
     "end_time": "2023-07-10T03:24:38.843123",
     "exception": false,
     "start_time": "2023-07-10T03:24:38.831749",
     "status": "completed"
    },
    "tags": []
   },
   "source": [
    "**CORRELATION BETWEEN SOURCE PINCODE AND RTO true VALUE**\n",
    "\n",
    "Like destinations, certain source pincodes might also indicate a possible RTO. These pincodes can be listed separately and looked into a little more. I have printed the source pincodes associated with a high percent RTO here (the lower limit I used is 15, can be changed)."
   ]
  },
  {
   "cell_type": "code",
   "execution_count": 17,
   "id": "becc4da8",
   "metadata": {
    "execution": {
     "iopub.execute_input": "2023-07-10T03:24:38.868282Z",
     "iopub.status.busy": "2023-07-10T03:24:38.867646Z",
     "iopub.status.idle": "2023-07-10T03:24:38.880455Z",
     "shell.execute_reply": "2023-07-10T03:24:38.878688Z"
    },
    "papermill": {
     "duration": 0.02773,
     "end_time": "2023-07-10T03:24:38.882369",
     "exception": false,
     "start_time": "2023-07-10T03:24:38.854639",
     "status": "completed"
    },
    "tags": []
   },
   "outputs": [
    {
     "name": "stdout",
     "output_type": "stream",
     "text": [
      "      index  count\n",
      "0  110077.0  25163\n",
      "1  110039.0  11398\n",
      "2  110006.0   6939\n",
      "3  110025.0   6593\n",
      "4  110059.0   5724\n"
     ]
    }
   ],
   "source": [
    "source_flag_list = is_RTO.source_pincode.value_counts().reset_index(name=\"count\").query(\"count>15\")\n",
    "print(source_flag_list.head(5))"
   ]
  },
  {
   "cell_type": "code",
   "execution_count": 18,
   "id": "651ee4ad",
   "metadata": {
    "execution": {
     "iopub.execute_input": "2023-07-10T03:24:38.908458Z",
     "iopub.status.busy": "2023-07-10T03:24:38.907878Z",
     "iopub.status.idle": "2023-07-10T03:24:38.924625Z",
     "shell.execute_reply": "2023-07-10T03:24:38.923143Z"
    },
    "papermill": {
     "duration": 0.032064,
     "end_time": "2023-07-10T03:24:38.926485",
     "exception": false,
     "start_time": "2023-07-10T03:24:38.894421",
     "status": "completed"
    },
    "tags": []
   },
   "outputs": [
    {
     "name": "stdout",
     "output_type": "stream",
     "text": [
      "      index  count\n",
      "0  110077.0  77433\n",
      "1  110039.0  33244\n",
      "2  110006.0  20007\n",
      "3  110059.0  19312\n",
      "4  282001.0  18606\n"
     ]
    }
   ],
   "source": [
    "list_df = df.source_pincode.value_counts().reset_index(name=\"count\")\n",
    "print(list_df.head(5))"
   ]
  },
  {
   "cell_type": "code",
   "execution_count": 19,
   "id": "1740184b",
   "metadata": {
    "execution": {
     "iopub.execute_input": "2023-07-10T03:24:38.952173Z",
     "iopub.status.busy": "2023-07-10T03:24:38.951531Z",
     "iopub.status.idle": "2023-07-10T03:24:39.120341Z",
     "shell.execute_reply": "2023-07-10T03:24:39.119342Z"
    },
    "papermill": {
     "duration": 0.183818,
     "end_time": "2023-07-10T03:24:39.122118",
     "exception": false,
     "start_time": "2023-07-10T03:24:38.938300",
     "status": "completed"
    },
    "tags": []
   },
   "outputs": [
    {
     "name": "stdout",
     "output_type": "stream",
     "text": [
      "        index  count  Total RTO  Percent RTO\n",
      "211  122052.0     78        107    72.897196\n",
      "291  122009.0     36         51    70.588235\n",
      "286  501401.0     37         60    61.666667\n",
      "316  394601.0     28         48    58.333333\n",
      "262  500001.0     48         83    57.831325\n"
     ]
    }
   ],
   "source": [
    "total = [0]*source_flag_list.shape[0]\n",
    "percent = [0]*source_flag_list.shape[0]\n",
    "\n",
    "# Value to check\n",
    "for i in range(source_flag_list.shape[0]):\n",
    "    value = source_flag_list[\"index\"].iloc[i]\n",
    "    mask = list_df[\"index\"].isin([value])\n",
    "    if any(mask):\n",
    "        x = list_df.index[mask].tolist()\n",
    "        total[i] = int(list_df[\"count\"].iloc[x].to_string(index=False))\n",
    "        percent[i] = (source_flag_list[\"count\"].iloc[i]/total[i]) * 100\n",
    "    else:\n",
    "        total[i] = -1\n",
    "        percent[i] = -1\n",
    "\n",
    "source_flag_list[\"Total RTO\"] = total\n",
    "source_flag_list[\"Percent RTO\"] = percent\n",
    "\n",
    "# sorting in descending order of percent RTO column\n",
    "source_flag_list = source_flag_list.sort_values(\"Percent RTO\", ascending=False)\n",
    "\n",
    "print(source_flag_list.head(5))"
   ]
  },
  {
   "cell_type": "markdown",
   "id": "072f9397",
   "metadata": {
    "papermill": {
     "duration": 0.011546,
     "end_time": "2023-07-10T03:24:39.145720",
     "exception": false,
     "start_time": "2023-07-10T03:24:39.134174",
     "status": "completed"
    },
    "tags": []
   },
   "source": [
    "**CORRELATION BETWEEN DISCOUNT AMOUNTS AND RTO true VALUE**\n",
    "\n",
    "The list printed below shows the top 5 discount amounts which had an RTO. Approximately 97.08% of the RTO orders were for products which had no discount on them. However looking at the percent RTO for different discounts, drawing a conclusion might be a little difficult."
   ]
  },
  {
   "cell_type": "code",
   "execution_count": 20,
   "id": "f889f342",
   "metadata": {
    "execution": {
     "iopub.execute_input": "2023-07-10T03:24:39.171313Z",
     "iopub.status.busy": "2023-07-10T03:24:39.170778Z",
     "iopub.status.idle": "2023-07-10T03:24:39.182156Z",
     "shell.execute_reply": "2023-07-10T03:24:39.180712Z"
    },
    "papermill": {
     "duration": 0.026451,
     "end_time": "2023-07-10T03:24:39.183975",
     "exception": false,
     "start_time": "2023-07-10T03:24:39.157524",
     "status": "completed"
    },
    "tags": []
   },
   "outputs": [
    {
     "name": "stdout",
     "output_type": "stream",
     "text": [
      "    index   count\n",
      "0       0  172574\n",
      "1   50000    1660\n",
      "2  100000     735\n",
      "3  200000     200\n",
      "4   75000      69\n"
     ]
    }
   ],
   "source": [
    "disc_flag_list = is_RTO.item_discount.value_counts().reset_index(name=\"count\").query(\"count>15\")\n",
    "print(disc_flag_list.head(5))"
   ]
  },
  {
   "cell_type": "code",
   "execution_count": 21,
   "id": "a00f9f70",
   "metadata": {
    "execution": {
     "iopub.execute_input": "2023-07-10T03:24:39.209920Z",
     "iopub.status.busy": "2023-07-10T03:24:39.208824Z",
     "iopub.status.idle": "2023-07-10T03:24:39.223716Z",
     "shell.execute_reply": "2023-07-10T03:24:39.222675Z"
    },
    "papermill": {
     "duration": 0.031157,
     "end_time": "2023-07-10T03:24:39.227116",
     "exception": false,
     "start_time": "2023-07-10T03:24:39.195959",
     "status": "completed"
    },
    "tags": []
   },
   "outputs": [
    {
     "name": "stdout",
     "output_type": "stream",
     "text": [
      "    index   count\n",
      "0       0  552451\n",
      "1   50000    9415\n",
      "2  100000    4341\n",
      "3  200000    1192\n",
      "4  400000     614\n"
     ]
    }
   ],
   "source": [
    "list_df = df.item_discount.value_counts().reset_index(name=\"count\")\n",
    "print(list_df.head(5))"
   ]
  },
  {
   "cell_type": "code",
   "execution_count": 22,
   "id": "bc07c188",
   "metadata": {
    "execution": {
     "iopub.execute_input": "2023-07-10T03:24:39.253432Z",
     "iopub.status.busy": "2023-07-10T03:24:39.253080Z",
     "iopub.status.idle": "2023-07-10T03:24:39.273373Z",
     "shell.execute_reply": "2023-07-10T03:24:39.272526Z"
    },
    "papermill": {
     "duration": 0.035663,
     "end_time": "2023-07-10T03:24:39.275064",
     "exception": false,
     "start_time": "2023-07-10T03:24:39.239401",
     "status": "completed"
    },
    "tags": []
   },
   "outputs": [
    {
     "name": "stdout",
     "output_type": "stream",
     "text": [
      "      index  count  Total RTO  Percent RTO\n",
      "15  1017000     18         19    94.736842\n",
      "16   466000     17         18    94.444444\n",
      "9   1016000     23         25    92.000000\n",
      "10  1235000     21         31    67.741935\n",
      "20     6000     16         29    55.172414\n"
     ]
    }
   ],
   "source": [
    "total = [0]*disc_flag_list.shape[0]\n",
    "percent = [0]*disc_flag_list.shape[0]\n",
    "\n",
    "# Value to check\n",
    "for i in range(disc_flag_list.shape[0]):\n",
    "    value = disc_flag_list[\"index\"].iloc[i]\n",
    "    mask = list_df[\"index\"].isin([value])\n",
    "    if any(mask):\n",
    "        x = list_df.index[mask].tolist()\n",
    "        total[i] = int(list_df[\"count\"].iloc[x].to_string(index=False))\n",
    "        percent[i] = (disc_flag_list[\"count\"].iloc[i]/total[i]) * 100\n",
    "    else:\n",
    "        total[i] = -1\n",
    "        percent[i] = -1\n",
    "\n",
    "disc_flag_list[\"Total RTO\"] = total\n",
    "disc_flag_list[\"Percent RTO\"] = percent\n",
    "\n",
    "# sorting in descending order of percent RTO column\n",
    "disc_flag_list = disc_flag_list.sort_values(\"Percent RTO\", ascending=False)\n",
    "\n",
    "print(disc_flag_list.head(5))"
   ]
  },
  {
   "cell_type": "markdown",
   "id": "68a24018",
   "metadata": {
    "papermill": {
     "duration": 0.011779,
     "end_time": "2023-07-10T03:24:39.299122",
     "exception": false,
     "start_time": "2023-07-10T03:24:39.287343",
     "status": "completed"
    },
    "tags": []
   },
   "source": [
    "**CORRELATION BETWEEN STATE AND RTO true VALUE**\n",
    "\n",
    "The lists printed below shows the top 5 states which had RTO orders. Approximately 9.77% of the RTO orders were from Uttar Pradesh."
   ]
  },
  {
   "cell_type": "code",
   "execution_count": 23,
   "id": "785b8b76",
   "metadata": {
    "execution": {
     "iopub.execute_input": "2023-07-10T03:24:39.325737Z",
     "iopub.status.busy": "2023-07-10T03:24:39.324778Z",
     "iopub.status.idle": "2023-07-10T03:24:39.341585Z",
     "shell.execute_reply": "2023-07-10T03:24:39.340863Z"
    },
    "papermill": {
     "duration": 0.032131,
     "end_time": "2023-07-10T03:24:39.343494",
     "exception": false,
     "start_time": "2023-07-10T03:24:39.311363",
     "status": "completed"
    },
    "tags": []
   },
   "outputs": [
    {
     "name": "stdout",
     "output_type": "stream",
     "text": [
      "           index  count\n",
      "0  Uttar Pradesh  17362\n",
      "1    Maharashtra  13226\n",
      "2      Karnataka  12969\n",
      "3          Bihar  12454\n",
      "4          Assam  11021\n"
     ]
    }
   ],
   "source": [
    "state_flag_list = is_RTO.state.value_counts().reset_index(name=\"count\").query(\"count>15\")\n",
    "print(state_flag_list.head(5))"
   ]
  },
  {
   "cell_type": "code",
   "execution_count": 24,
   "id": "8dfbf85e",
   "metadata": {
    "execution": {
     "iopub.execute_input": "2023-07-10T03:24:39.370790Z",
     "iopub.status.busy": "2023-07-10T03:24:39.370224Z",
     "iopub.status.idle": "2023-07-10T03:24:39.398255Z",
     "shell.execute_reply": "2023-07-10T03:24:39.397165Z"
    },
    "papermill": {
     "duration": 0.04453,
     "end_time": "2023-07-10T03:24:39.400882",
     "exception": false,
     "start_time": "2023-07-10T03:24:39.356352",
     "status": "completed"
    },
    "tags": []
   },
   "outputs": [
    {
     "name": "stdout",
     "output_type": "stream",
     "text": [
      "           index  count\n",
      "0  Uttar Pradesh  55251\n",
      "1    Maharashtra  51104\n",
      "2      Karnataka  46875\n",
      "3     Tamil Nadu  42846\n",
      "4    West Bengal  31423\n"
     ]
    }
   ],
   "source": [
    "list_df = df.state.value_counts().reset_index(name=\"count\")\n",
    "print(list_df.head(5))"
   ]
  },
  {
   "cell_type": "code",
   "execution_count": 25,
   "id": "0418c49b",
   "metadata": {
    "execution": {
     "iopub.execute_input": "2023-07-10T03:24:39.432410Z",
     "iopub.status.busy": "2023-07-10T03:24:39.432050Z",
     "iopub.status.idle": "2023-07-10T03:24:39.457693Z",
     "shell.execute_reply": "2023-07-10T03:24:39.456322Z"
    },
    "papermill": {
     "duration": 0.045367,
     "end_time": "2023-07-10T03:24:39.460288",
     "exception": false,
     "start_time": "2023-07-10T03:24:39.414921",
     "status": "completed"
    },
    "tags": []
   },
   "outputs": [
    {
     "name": "stdout",
     "output_type": "stream",
     "text": [
      "                          index  count  Total RTO  Percent RTO\n",
      "9             Jammu and Kashmir   8643      18959    45.587847\n",
      "3                         Bihar  12454      29451    42.287189\n",
      "5                     Rajasthan  10705      26675    40.131209\n",
      "18                      Tripura   3271       8200    39.890244\n",
      "34  Andaman and Nicobar Islands     22         57    38.596491\n"
     ]
    }
   ],
   "source": [
    "total = [0]*state_flag_list.shape[0]\n",
    "percent = [0]*state_flag_list.shape[0]\n",
    "\n",
    "# Value to check\n",
    "for i in range(state_flag_list.shape[0]):\n",
    "    value = state_flag_list[\"index\"].iloc[i]\n",
    "    mask = list_df[\"index\"].isin([value])\n",
    "    if any(mask):\n",
    "        x = list_df.index[mask].tolist()\n",
    "        total[i] = int(list_df[\"count\"].iloc[x].to_string(index=False))\n",
    "        percent[i] = (state_flag_list[\"count\"].iloc[i]/total[i]) * 100\n",
    "    else:\n",
    "        total[i] = -1\n",
    "        percent[i] = -1\n",
    "\n",
    "state_flag_list[\"Total RTO\"] = total\n",
    "state_flag_list[\"Percent RTO\"] = percent\n",
    "\n",
    "# sorting in descending order of percent RTO column\n",
    "state_flag_list = state_flag_list.sort_values(\"Percent RTO\", ascending=False)\n",
    "\n",
    "print(state_flag_list.head(5))"
   ]
  },
  {
   "cell_type": "markdown",
   "id": "573112e5",
   "metadata": {
    "papermill": {
     "duration": 0.012026,
     "end_time": "2023-07-10T03:24:39.484942",
     "exception": false,
     "start_time": "2023-07-10T03:24:39.472916",
     "status": "completed"
    },
    "tags": []
   },
   "source": [
    "**CORRELATION BETWEEN ITEM SHIPPING AND RTO true VALUE**\n",
    "\n",
    "The lists printed below shows the top 5 item shipping rates which had RTO orders. Approximately 68.61% of the RTO orders were those which had no shipping cost."
   ]
  },
  {
   "cell_type": "code",
   "execution_count": 26,
   "id": "7f67f519",
   "metadata": {
    "execution": {
     "iopub.execute_input": "2023-07-10T03:24:39.512371Z",
     "iopub.status.busy": "2023-07-10T03:24:39.511993Z",
     "iopub.status.idle": "2023-07-10T03:24:39.524484Z",
     "shell.execute_reply": "2023-07-10T03:24:39.523592Z"
    },
    "papermill": {
     "duration": 0.028749,
     "end_time": "2023-07-10T03:24:39.526342",
     "exception": false,
     "start_time": "2023-07-10T03:24:39.497593",
     "status": "completed"
    },
    "tags": []
   },
   "outputs": [
    {
     "name": "stdout",
     "output_type": "stream",
     "text": [
      "   index   count\n",
      "0      0  121970\n",
      "1  49000   15898\n",
      "2  19000   12214\n",
      "3  29000    8863\n",
      "4  99000    5106\n"
     ]
    }
   ],
   "source": [
    "shipping_flag_list = is_RTO.item_shipping.value_counts().reset_index(name=\"count\").query(\"count>15\")\n",
    "print(shipping_flag_list.head(5))"
   ]
  },
  {
   "cell_type": "code",
   "execution_count": 27,
   "id": "327f5779",
   "metadata": {
    "execution": {
     "iopub.execute_input": "2023-07-10T03:24:39.553759Z",
     "iopub.status.busy": "2023-07-10T03:24:39.553388Z",
     "iopub.status.idle": "2023-07-10T03:24:39.567364Z",
     "shell.execute_reply": "2023-07-10T03:24:39.566676Z"
    },
    "papermill": {
     "duration": 0.030248,
     "end_time": "2023-07-10T03:24:39.569247",
     "exception": false,
     "start_time": "2023-07-10T03:24:39.538999",
     "status": "completed"
    },
    "tags": []
   },
   "outputs": [
    {
     "name": "stdout",
     "output_type": "stream",
     "text": [
      "   index   count\n",
      "0      0  406447\n",
      "1  19000   51751\n",
      "2  49000   47038\n",
      "3  29000   26084\n",
      "4  69000   16500\n"
     ]
    }
   ],
   "source": [
    "list_df = df.item_shipping.value_counts().reset_index(name=\"count\")\n",
    "print(list_df.head(5))"
   ]
  },
  {
   "cell_type": "code",
   "execution_count": 28,
   "id": "280eb24e",
   "metadata": {
    "execution": {
     "iopub.execute_input": "2023-07-10T03:24:39.595633Z",
     "iopub.status.busy": "2023-07-10T03:24:39.595248Z",
     "iopub.status.idle": "2023-07-10T03:24:39.624954Z",
     "shell.execute_reply": "2023-07-10T03:24:39.623577Z"
    },
    "papermill": {
     "duration": 0.045559,
     "end_time": "2023-07-10T03:24:39.627269",
     "exception": false,
     "start_time": "2023-07-10T03:24:39.581710",
     "status": "completed"
    },
    "tags": []
   },
   "outputs": [
    {
     "name": "stdout",
     "output_type": "stream",
     "text": [
      "     index  count  Total RTO  Percent RTO\n",
      "13  249000    321        635    50.551181\n",
      "11  129000    460       1110    41.441441\n",
      "10  179000    625       1568    39.859694\n",
      "9   139000    718       1857    38.664513\n",
      "12  149000    364        979    37.180797\n"
     ]
    }
   ],
   "source": [
    "total = [0]*shipping_flag_list.shape[0]\n",
    "percent = [0]*shipping_flag_list.shape[0]\n",
    "\n",
    "# Value to check\n",
    "for i in range(shipping_flag_list.shape[0]):\n",
    "    value = shipping_flag_list[\"index\"].iloc[i]\n",
    "    mask = list_df[\"index\"].isin([value])\n",
    "    if any(mask):\n",
    "        x = list_df.index[mask].tolist()\n",
    "        total[i] = int(list_df[\"count\"].iloc[x].to_string(index=False))\n",
    "        percent[i] = (shipping_flag_list[\"count\"].iloc[i]/total[i]) * 100\n",
    "    else:\n",
    "        total[i] = -1\n",
    "        percent[i] = -1\n",
    "\n",
    "shipping_flag_list[\"Total RTO\"] = total\n",
    "shipping_flag_list[\"Percent RTO\"] = percent\n",
    "\n",
    "# sorting in descending order of percent RTO column\n",
    "shipping_flag_list = shipping_flag_list.sort_values(\"Percent RTO\", ascending=False)\n",
    "print(shipping_flag_list.head(5))"
   ]
  },
  {
   "cell_type": "markdown",
   "id": "4d77c6c7",
   "metadata": {
    "papermill": {
     "duration": 0.012229,
     "end_time": "2023-07-10T03:24:39.652018",
     "exception": false,
     "start_time": "2023-07-10T03:24:39.639789",
     "status": "completed"
    },
    "tags": []
   },
   "source": [
    "**CORRELATION BETWEEN QUANTITY AND RTO true VALUE**\n",
    "\n",
    "The list printed below shows some correlation between RTO and quantity. Aproximately 91.92% of total RTO orders were those with single quantity of items. So we could assume that smaller quantity orders have a higher likelihood of RTO."
   ]
  },
  {
   "cell_type": "code",
   "execution_count": 29,
   "id": "8687f913",
   "metadata": {
    "execution": {
     "iopub.execute_input": "2023-07-10T03:24:39.678312Z",
     "iopub.status.busy": "2023-07-10T03:24:39.678017Z",
     "iopub.status.idle": "2023-07-10T03:24:39.690066Z",
     "shell.execute_reply": "2023-07-10T03:24:39.688565Z"
    },
    "papermill": {
     "duration": 0.027378,
     "end_time": "2023-07-10T03:24:39.691935",
     "exception": false,
     "start_time": "2023-07-10T03:24:39.664557",
     "status": "completed"
    },
    "tags": []
   },
   "outputs": [
    {
     "name": "stdout",
     "output_type": "stream",
     "text": [
      "   index   count\n",
      "0      1  163416\n",
      "1      2    8565\n",
      "2      3    1922\n",
      "3      4    1431\n",
      "4      5     926\n"
     ]
    }
   ],
   "source": [
    "quant_flag_list = is_RTO.quantity.value_counts().reset_index(name=\"count\").query(\"count>15\")\n",
    "print(quant_flag_list.head(5))"
   ]
  },
  {
   "cell_type": "code",
   "execution_count": 30,
   "id": "9ae48a65",
   "metadata": {
    "execution": {
     "iopub.execute_input": "2023-07-10T03:24:39.718545Z",
     "iopub.status.busy": "2023-07-10T03:24:39.718241Z",
     "iopub.status.idle": "2023-07-10T03:24:39.731821Z",
     "shell.execute_reply": "2023-07-10T03:24:39.730516Z"
    },
    "papermill": {
     "duration": 0.029113,
     "end_time": "2023-07-10T03:24:39.733522",
     "exception": false,
     "start_time": "2023-07-10T03:24:39.704409",
     "status": "completed"
    },
    "tags": []
   },
   "outputs": [
    {
     "name": "stdout",
     "output_type": "stream",
     "text": [
      "   index   count\n",
      "0      1  536697\n",
      "1      2   34033\n",
      "2      3    7690\n",
      "3      4    5961\n",
      "4      5    4371\n"
     ]
    }
   ],
   "source": [
    "list_df = df.quantity.value_counts().reset_index(name=\"count\")\n",
    "print(list_df.head(5))"
   ]
  },
  {
   "cell_type": "code",
   "execution_count": 31,
   "id": "76bf5a77",
   "metadata": {
    "execution": {
     "iopub.execute_input": "2023-07-10T03:24:39.759861Z",
     "iopub.status.busy": "2023-07-10T03:24:39.759488Z",
     "iopub.status.idle": "2023-07-10T03:24:39.777844Z",
     "shell.execute_reply": "2023-07-10T03:24:39.776822Z"
    },
    "papermill": {
     "duration": 0.033535,
     "end_time": "2023-07-10T03:24:39.779568",
     "exception": false,
     "start_time": "2023-07-10T03:24:39.746033",
     "status": "completed"
    },
    "tags": []
   },
   "outputs": [
    {
     "name": "stdout",
     "output_type": "stream",
     "text": [
      "    index   count  Total RTO  Percent RTO\n",
      "0       1  163416     536697    30.448465\n",
      "1       2    8565      34033    25.166750\n",
      "2       3    1922       7690    24.993498\n",
      "3       4    1431       5961    24.006039\n",
      "15     14      21         91    23.076923\n"
     ]
    }
   ],
   "source": [
    "total = [0]*quant_flag_list.shape[0]\n",
    "percent = [0]*quant_flag_list.shape[0]\n",
    "\n",
    "# Value to check\n",
    "for i in range(quant_flag_list.shape[0]):\n",
    "    value = quant_flag_list[\"index\"].iloc[i]\n",
    "    mask = list_df[\"index\"].isin([value])\n",
    "    if any(mask):\n",
    "        x = list_df.index[mask].tolist()\n",
    "        total[i] = int(list_df[\"count\"].iloc[x].to_string(index=False))\n",
    "        percent[i] = (quant_flag_list[\"count\"].iloc[i]/total[i]) * 100\n",
    "    else:\n",
    "        total[i] = -1\n",
    "        percent[i] = -1\n",
    "\n",
    "quant_flag_list[\"Total RTO\"] = total\n",
    "quant_flag_list[\"Percent RTO\"] = percent\n",
    "\n",
    "# sorting in descending order of percent RTO column\n",
    "quant_flag_list = quant_flag_list.sort_values(\"Percent RTO\", ascending=False)\n",
    "print(quant_flag_list.head(5))"
   ]
  },
  {
   "cell_type": "markdown",
   "id": "16f49ca4",
   "metadata": {
    "papermill": {
     "duration": 0.012322,
     "end_time": "2023-07-10T03:24:39.804358",
     "exception": false,
     "start_time": "2023-07-10T03:24:39.792036",
     "status": "completed"
    },
    "tags": []
   },
   "source": [
    "**CORRELATION BETWEEN ORDER PLATFORM AND RTO true VALUE**\n",
    "\n",
    "The list printed below shows correlation between RTO and order platform. Approximately 4.93% of total RTO orders were made on mobile. So we could assume that mobile orders have a higher likelihood of RTO."
   ]
  },
  {
   "cell_type": "code",
   "execution_count": 32,
   "id": "20f621c3",
   "metadata": {
    "execution": {
     "iopub.execute_input": "2023-07-10T03:24:39.832990Z",
     "iopub.status.busy": "2023-07-10T03:24:39.832568Z",
     "iopub.status.idle": "2023-07-10T03:24:39.847487Z",
     "shell.execute_reply": "2023-07-10T03:24:39.846312Z"
    },
    "papermill": {
     "duration": 0.031329,
     "end_time": "2023-07-10T03:24:39.849421",
     "exception": false,
     "start_time": "2023-07-10T03:24:39.818092",
     "status": "completed"
    },
    "tags": []
   },
   "outputs": [
    {
     "name": "stdout",
     "output_type": "stream",
     "text": [
      "    index   count\n",
      "0  mobile  133205\n",
      "1     app   38197\n",
      "2     web    6150\n",
      "3       0     178\n",
      "4     oms      39\n"
     ]
    }
   ],
   "source": [
    "platform_flag_list = is_RTO.order_platform.value_counts().reset_index(name=\"count\")\n",
    "print(platform_flag_list)"
   ]
  },
  {
   "cell_type": "code",
   "execution_count": 33,
   "id": "5af52e60",
   "metadata": {
    "execution": {
     "iopub.execute_input": "2023-07-10T03:24:39.877367Z",
     "iopub.status.busy": "2023-07-10T03:24:39.876334Z",
     "iopub.status.idle": "2023-07-10T03:24:39.905328Z",
     "shell.execute_reply": "2023-07-10T03:24:39.904097Z"
    },
    "papermill": {
     "duration": 0.044896,
     "end_time": "2023-07-10T03:24:39.907253",
     "exception": false,
     "start_time": "2023-07-10T03:24:39.862357",
     "status": "completed"
    },
    "tags": []
   },
   "outputs": [
    {
     "name": "stdout",
     "output_type": "stream",
     "text": [
      "    index   count\n",
      "0  mobile  385930\n",
      "1     app  142252\n",
      "2     web   67329\n",
      "3       0    1916\n",
      "4     oms     845\n"
     ]
    }
   ],
   "source": [
    "list_df = df.order_platform.value_counts().reset_index(name=\"count\")\n",
    "print(list_df.head(5))"
   ]
  },
  {
   "cell_type": "code",
   "execution_count": 34,
   "id": "8ae11158",
   "metadata": {
    "execution": {
     "iopub.execute_input": "2023-07-10T03:24:39.934966Z",
     "iopub.status.busy": "2023-07-10T03:24:39.934596Z",
     "iopub.status.idle": "2023-07-10T03:24:39.948299Z",
     "shell.execute_reply": "2023-07-10T03:24:39.947108Z"
    },
    "papermill": {
     "duration": 0.02962,
     "end_time": "2023-07-10T03:24:39.950029",
     "exception": false,
     "start_time": "2023-07-10T03:24:39.920409",
     "status": "completed"
    },
    "tags": []
   },
   "outputs": [
    {
     "name": "stdout",
     "output_type": "stream",
     "text": [
      "    index   count  Total RTO  Percent RTO\n",
      "0  mobile  133205     385930    34.515327\n",
      "1     app   38197     142252    26.851644\n",
      "3       0     178       1916     9.290188\n",
      "2     web    6150      67329     9.134251\n",
      "4     oms      39        845     4.615385\n"
     ]
    }
   ],
   "source": [
    "total = [0]*platform_flag_list.shape[0]\n",
    "percent = [0]*platform_flag_list.shape[0]\n",
    "\n",
    "# Value to check\n",
    "for i in range(platform_flag_list.shape[0]):\n",
    "    value = platform_flag_list[\"index\"].iloc[i]\n",
    "    mask = list_df[\"index\"].isin([value])\n",
    "    if any(mask):\n",
    "        x = list_df.index[mask].tolist()\n",
    "        total[i] = int(list_df[\"count\"].iloc[x].to_string(index=False))\n",
    "        percent[i] = (platform_flag_list[\"count\"].iloc[i]/total[i]) * 100\n",
    "    else:\n",
    "        total[i] = -1\n",
    "        percent[i] = -1\n",
    "\n",
    "platform_flag_list[\"Total RTO\"] = total\n",
    "platform_flag_list[\"Percent RTO\"] = percent\n",
    "\n",
    "# sorting in descending order of percent RTO column\n",
    "platform_flag_list = platform_flag_list.sort_values(\"Percent RTO\", ascending=False)\n",
    "print(platform_flag_list)"
   ]
  },
  {
   "cell_type": "markdown",
   "id": "1bb8f375",
   "metadata": {
    "papermill": {
     "duration": 0.012367,
     "end_time": "2023-07-10T03:24:39.975171",
     "exception": false,
     "start_time": "2023-07-10T03:24:39.962804",
     "status": "completed"
    },
    "tags": []
   },
   "source": [
    "**CORRELATION BETWEEN SOURCES AND RTO true VALUE**\n",
    "\n",
    "The list printed below shows correlation between RTO and source. From the numbers we can see that approximately 44% of the orders placed on Facebook are RTO."
   ]
  },
  {
   "cell_type": "code",
   "execution_count": 35,
   "id": "1a052d7c",
   "metadata": {
    "execution": {
     "iopub.execute_input": "2023-07-10T03:24:40.002281Z",
     "iopub.status.busy": "2023-07-10T03:24:40.001896Z",
     "iopub.status.idle": "2023-07-10T03:24:40.019821Z",
     "shell.execute_reply": "2023-07-10T03:24:40.018240Z"
    },
    "papermill": {
     "duration": 0.034224,
     "end_time": "2023-07-10T03:24:40.021807",
     "exception": false,
     "start_time": "2023-07-10T03:24:39.987583",
     "status": "completed"
    },
    "tags": []
   },
   "outputs": [
    {
     "name": "stdout",
     "output_type": "stream",
     "text": [
      "        index  count  Total RTO  Percent RTO\n",
      "211  122052.0     78        107    72.897196\n",
      "291  122009.0     36         51    70.588235\n",
      "286  501401.0     37         60    61.666667\n",
      "316  394601.0     28         48    58.333333\n",
      "262  500001.0     48         83    57.831325\n",
      "..        ...    ...        ...          ...\n",
      "350  414003.0     18        225     8.000000\n",
      "345  560043.0     19        264     7.196970\n",
      "276  834001.0     40        948     4.219409\n",
      "358  560027.0     17        537     3.165736\n",
      "295  400093.0     35       1427     2.452698\n",
      "\n",
      "[368 rows x 4 columns]\n"
     ]
    }
   ],
   "source": [
    "sources_flag_list = is_RTO.sources.value_counts().reset_index(name=\"count\")\n",
    "print(source_flag_list)"
   ]
  },
  {
   "cell_type": "code",
   "execution_count": 36,
   "id": "afe86f10",
   "metadata": {
    "execution": {
     "iopub.execute_input": "2023-07-10T03:24:40.050210Z",
     "iopub.status.busy": "2023-07-10T03:24:40.049824Z",
     "iopub.status.idle": "2023-07-10T03:24:40.080788Z",
     "shell.execute_reply": "2023-07-10T03:24:40.079863Z"
    },
    "papermill": {
     "duration": 0.046937,
     "end_time": "2023-07-10T03:24:40.082375",
     "exception": false,
     "start_time": "2023-07-10T03:24:40.035438",
     "status": "completed"
    },
    "tags": []
   },
   "outputs": [
    {
     "name": "stdout",
     "output_type": "stream",
     "text": [
      "      index   count\n",
      "0         0  476454\n",
      "1  Facebook  121818\n"
     ]
    }
   ],
   "source": [
    "list_df = df.sources.value_counts().reset_index(name=\"count\")\n",
    "print(list_df.head(5))"
   ]
  },
  {
   "cell_type": "code",
   "execution_count": 37,
   "id": "f0ee7cf0",
   "metadata": {
    "execution": {
     "iopub.execute_input": "2023-07-10T03:24:40.110163Z",
     "iopub.status.busy": "2023-07-10T03:24:40.109831Z",
     "iopub.status.idle": "2023-07-10T03:24:40.122305Z",
     "shell.execute_reply": "2023-07-10T03:24:40.120505Z"
    },
    "papermill": {
     "duration": 0.028732,
     "end_time": "2023-07-10T03:24:40.124359",
     "exception": false,
     "start_time": "2023-07-10T03:24:40.095627",
     "status": "completed"
    },
    "tags": []
   },
   "outputs": [
    {
     "name": "stdout",
     "output_type": "stream",
     "text": [
      "      index   count  Total RTO  Percent RTO\n",
      "1  Facebook   54203     121818    44.495066\n",
      "0         0  123566     476454    25.934508\n"
     ]
    }
   ],
   "source": [
    "total = [0]*sources_flag_list.shape[0]\n",
    "percent = [0]*sources_flag_list.shape[0]\n",
    "\n",
    "# Value to check\n",
    "for i in range(sources_flag_list.shape[0]):\n",
    "    value = sources_flag_list[\"index\"].iloc[i]\n",
    "    mask = list_df[\"index\"].isin([value])\n",
    "    if any(mask):\n",
    "        x = list_df.index[mask].tolist()\n",
    "        total[i] = int(list_df[\"count\"].iloc[x].to_string(index=False))\n",
    "        percent[i] = (sources_flag_list[\"count\"].iloc[i]/total[i]) * 100\n",
    "    else:\n",
    "        total[i] = -1\n",
    "        percent[i] = -1\n",
    "\n",
    "sources_flag_list[\"Total RTO\"] = total\n",
    "sources_flag_list[\"Percent RTO\"] = percent\n",
    "\n",
    "# sorting in descending order of percent RTO column\n",
    "sources_flag_list = sources_flag_list.sort_values(\"Percent RTO\", ascending=False)\n",
    "print(sources_flag_list)"
   ]
  }
 ],
 "metadata": {
  "kernelspec": {
   "display_name": "Python 3",
   "language": "python",
   "name": "python3"
  },
  "language_info": {
   "codemirror_mode": {
    "name": "ipython",
    "version": 3
   },
   "file_extension": ".py",
   "mimetype": "text/x-python",
   "name": "python",
   "nbconvert_exporter": "python",
   "pygments_lexer": "ipython3",
   "version": "3.10.10"
  },
  "papermill": {
   "default_parameters": {},
   "duration": 188.310264,
   "end_time": "2023-07-10T03:24:41.159369",
   "environment_variables": {},
   "exception": null,
   "input_path": "__notebook__.ipynb",
   "output_path": "__notebook__.ipynb",
   "parameters": {},
   "start_time": "2023-07-10T03:21:32.849105",
   "version": "2.4.0"
  }
 },
 "nbformat": 4,
 "nbformat_minor": 5
}
